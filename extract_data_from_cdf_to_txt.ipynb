{
 "cells": [
  {
   "cell_type": "code",
   "execution_count": null,
   "metadata": {
    "vscode": {
     "languageId": "plaintext"
    }
   },
   "outputs": [],
   "source": [
    "import matplotlib.pyplot as plt\n",
    "from spacepy.pycdf import CDF\n",
    "import cartopy.crs as ccrs\n",
    "import cartopy.feature as cfeature\n",
    "import numpy as np\n",
    "import ppigrf\n",
    "from datetime import datetime\n",
    "\n",
    "# --- Define file path ---\n",
    "file_path = \"LR/SW_OPER_MAGA_LR_1B_20250203T000000_20250203T235959_0606_MDR_MAG_LR.cdf\"\n",
    "#file_path = \"SW_OPER_MAGA_HR_1B_20140305T000000_20140305T235959_0602_MDR_MAG_HR.cdf\"\n",
    "\n",
    "# --- Open the CDF file and extract data ---\n",
    "with CDF(file_path) as cdf:\n",
    "    latitude = cdf['Latitude'][:]\n",
    "    longitude = cdf['Longitude'][:]\n",
    "    B_NEC = cdf['B_NEC'][:]  # Magnetic field components (North, East, Center)\n",
    "    B_N = B_NEC[:, 0]  # Northward Magnetic Field Component\n",
    "    B_E = B_NEC[:, 1]  # Eastward Magnetic Field Component\n",
    "    B_C = B_NEC[:, 2]  # Centerward Magnetic Field Component\n",
    "    radius = cdf['Radius'][:]  # Distance from Earth's center\n",
    "    Timestamp = cdf['Timestamp'][:]  # Timestamp data\n",
    "\n",
    "# --- Compute Altitude from Radius ---\n",
    "earth_radius_km = 6371  # Earth's mean radius in km\n",
    "altitude = (radius / 1000) - earth_radius_km  # Convert radius from meters to km\n",
    "\n",
    "# --- Define Region of Interest ---\n",
    "lat_min, lat_max = 30, 40\n",
    "lon_min, lon_max = 24, 26\n",
    "# --- Filter Data within the Given Latitude & Longitude Range ---\n",
    "region_indices = (latitude >= lat_min) & (latitude <= lat_max) & (longitude >= lon_min) & (longitude <= lon_max)\n",
    "\n",
    "latitude_region = latitude[region_indices]\n",
    "longitude_region = longitude[region_indices]\n",
    "B_N_region = B_N[region_indices]\n",
    "B_E_region = B_E[region_indices]\n",
    "B_C_region = B_C[region_indices]\n",
    "Altitude_region = altitude[region_indices]\n",
    "Timestamp_region = Timestamp[region_indices]\n",
    "\n",
    "# --- Compute B_N, B_E, B_C using IGRF Model ---\n",
    "date = datetime(2014, 3, 5)  # Date of measurement\n",
    "B_N_IGRF = []\n",
    "B_E_IGRF = []\n",
    "B_C_IGRF = []\n",
    "\n",
    "for lat, lon, alt in zip(latitude_region, longitude_region, Altitude_region):\n",
    "    Be, Bn, Bu = ppigrf.igrf(lon, lat, alt, date)  # IGRF expects altitude in km\n",
    "    B_E_IGRF.append(Be)\n",
    "    B_N_IGRF.append(Bn)\n",
    "    B_C_IGRF.append(Bu)\n",
    "\n",
    "# --- Save Data to a TXT File ---\n",
    "output_file_path = \"txt_files/SW_OPER_MAGA_LR_1B_20250203T000000_20250203T235959_0606_MDR_MAG_LR.txt\"\n",
    "\n",
    "with open(output_file_path, \"w\") as file:\n",
    "    # Write header\n",
    "    file.write(\"Timestamp,Latitude,Longitude,Altitude,B_N_SWARM,B_E_SWARM,B_C_SWARM,B_N_IGRF,B_E_IGRF,B_C_IGRF (nT)\\n\")\n",
    "    \n",
    "    # Write data rows (convert NumPy values to scalars)\n",
    "    for ts, lat, lon, alt, bn_swarm, be_swarm, bc_swarm, bn_igrf, be_igrf, bc_igrf in zip(\n",
    "        Timestamp_region, latitude_region, longitude_region, Altitude_region, \n",
    "        B_N_region, B_E_region, B_C_region, B_N_IGRF, B_E_IGRF, B_C_IGRF):\n",
    "        \n",
    "        file.write(f\"{ts},{float(lat):.6f},{float(lon):.6f},{float(alt):.6f},\"\n",
    "                   f\"{float(bn_swarm):.6f},{float(be_swarm):.6f},{float(bc_swarm):.6f},\"\n",
    "                   f\"{float(bn_igrf):.6f},{float(be_igrf):.6f},{float(bc_igrf):.6f}\\n\")\n",
    "\n",
    "print(f\"Filtered data with IGRF comparison saved to {output_file_path}\")\n",
    "\n",
    "\n"
   ]
  },
  {
   "cell_type": "markdown",
   "metadata": {},
   "source": [
    "change sign of B_C_IGRF"
   ]
  },
  {
   "cell_type": "code",
   "execution_count": null,
   "metadata": {
    "vscode": {
     "languageId": "plaintext"
    }
   },
   "outputs": [],
   "source": [
    "import pandas as pd\n",
    "import numpy as np  # Import numpy\n",
    "\n",
    "try:\n",
    "    df = pd.read_csv('figure_3_magnetic_data_HR_with_IGRF.txt', sep=',', header=None, skiprows=1) #read without header and skip first row\n",
    "    df.columns = ['Timestamp', 'Latitude', 'Longitude', 'Altitude', 'B_N_SWARM', 'B_E_SWARM', 'B_C_SWARM', 'B_N_IGRF', 'B_E_IGRF', 'B_C_IGRF (nT)']  # Set columns explicitly\n",
    "    df['B_C_IGRF (nT)'] = pd.to_numeric(df['B_C_IGRF (nT)'], errors='coerce') * -1 #convert to numeric and change sign\n",
    "    df.to_csv('figure_3_magnetic_data_HR_with_IGRF_modified.txt', sep=',', index=False)\n",
    "    print(\"Sign changed and saved.\")\n",
    "except Exception as e:\n",
    "    print(f\"An error occurred: {e}\")"
   ]
  }
 ],
 "metadata": {
  "language_info": {
   "name": "python"
  }
 },
 "nbformat": 4,
 "nbformat_minor": 2
}
