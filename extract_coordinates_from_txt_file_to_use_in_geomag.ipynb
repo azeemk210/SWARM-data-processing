{
 "cells": [
  {
   "cell_type": "code",
   "execution_count": null,
   "metadata": {
    "vscode": {
     "languageId": "plaintext"
    }
   },
   "outputs": [],
   "source": [
    "import pandas as pd\n",
    "\n",
    "# Load the file (modify delimiter if needed, e.g., '\\t' for tab-separated files)\n",
    "input_file = r\"D:\\Data\\SWARM_data\\Santorini_island\\txt_files\\SW_OPER_MAGC_LR_1B_20250128T000000_20250128T235959_0606_MDR_MAG_LR.txt\"  # Change this to your actual file name\n",
    "output_file = r\"D:\\Data\\SWARM_data\\Santorini_island\\txt_files\\coordinates_SW_OPER_MAGC_LR_1B_20250128T000000_20250128T235959_0606_MDR_MAG_LR.txt\"\n",
    "\n",
    "# Read the file\n",
    "df = pd.read_csv(input_file, delimiter=',')  # Change delimiter if necessary\n",
    "\n",
    "# Select required columns (adjust column names as needed)\n",
    "df_filtered = df[['Latitude', 'Longitude']]\n",
    "\n",
    "# Save to a new .txt file (comma-separated)\n",
    "df_filtered.to_csv(output_file, index=False, header=False, sep=',')\n",
    "\n",
    "print(f\"Extracted Latitude, Longitude, saved to {output_file}\")\n"
   ]
  },
  {
   "cell_type": "code",
   "execution_count": null,
   "metadata": {
    "vscode": {
     "languageId": "plaintext"
    }
   },
   "outputs": [],
   "source": [
    "import pandas as pd\n",
    "\n",
    "def extract_every_100th(input_file):\n",
    "    # Read the text file (assuming space or tab-delimited values)\n",
    "    df = pd.read_csv(input_file, delim_whitespace=True)\n",
    "\n",
    "    # Extract every 100th row (1st, 100th, 200th, ...)\n",
    "    filtered_df = df.iloc[::100, :]\n",
    "\n",
    "    # Create the output filename\n",
    "    output_file = input_file.replace(\".txt\", \"_filtered_100.txt\")\n",
    "\n",
    "    # Save the extracted values to a new file\n",
    "    filtered_df.to_csv(output_file, sep=\" \", index=False)\n",
    "\n",
    "    print(f\"Filtered data saved to: {output_file}\")\n",
    "\n",
    "# Example usage:\n",
    "input_filename = r\"D:\\Data\\SWARM_data\\geomag\\geo2mag\\santorini_island\\coordinates_SW_OPER_MAGC_HR_1B_20250128T000000_20250128T235959_0606_MDR_MAG_HR.txt\"  # Replace with your actual filename\n",
    "extract_every_100th(input_filename)\n"
   ]
  }
 ],
 "metadata": {
  "language_info": {
   "name": "python"
  }
 },
 "nbformat": 4,
 "nbformat_minor": 2
}
