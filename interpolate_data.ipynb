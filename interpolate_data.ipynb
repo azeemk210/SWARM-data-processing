{
 "cells": [
  {
   "cell_type": "code",
   "execution_count": null,
   "metadata": {
    "vscode": {
     "languageId": "plaintext"
    }
   },
   "outputs": [],
   "source": [
    "import numpy as np\n",
    "import pandas as pd\n",
    "from scipy.interpolate import griddata\n",
    "\n",
    "# File names\n",
    "known_file = \"output_coordinates_figure_3_magnetic_data_HR_with_IGRF_filtered_100.txt\"\n",
    "coordinates_file = \"coordinates_figure_3_magnetic_data_HR_with_IGRF.txt\"\n",
    "output_file = \"interpolated_results_coordinates_figure_3_magnetic_data_HR_with_IGRF.txt\"\n",
    "\n",
    "# Load known data, ensuring correct columns are read\n",
    "known_data = pd.read_csv(known_file, delim_whitespace=True)\n",
    "\n",
    "# Check column names\n",
    "print(\"Known Data Columns:\", known_data.columns)\n",
    "\n",
    "# Drop any unexpected extra columns (e.g., 'year' if present)\n",
    "if 'year' in known_data.columns:\n",
    "    known_data = known_data.drop(columns=['year'])\n",
    "\n",
    "# Load target coordinates\n",
    "target_coords = pd.read_csv(coordinates_file, delimiter=\",\", header=0, names=[\"lat\", \"lon\"])\n",
    "\n",
    "# Ensure correct column selection for interpolation\n",
    "points = known_data.iloc[:, [0, 1]].values  # Use only (glat, glon)\n",
    "values1 = known_data.iloc[:, 2].values  # Ensure this is mlat\n",
    "values2 = known_data.iloc[:, 3].values  # Ensure this is mlon\n",
    "\n",
    "# Target coordinates for interpolation\n",
    "new_points = target_coords[[\"lat\", \"lon\"]].values\n",
    "\n",
    "# Perform interpolation\n",
    "interpolated_value1 = griddata(points, values1, new_points, method=\"linear\")\n",
    "interpolated_value2 = griddata(points, values2, new_points, method=\"linear\")\n",
    "\n",
    "# Handle NaN values by using nearest neighbor fallback\n",
    "nan_mask1 = np.isnan(interpolated_value1)\n",
    "nan_mask2 = np.isnan(interpolated_value2)\n",
    "\n",
    "if np.any(nan_mask1) or np.any(nan_mask2):\n",
    "    print(\"Warning: Some points were outside interpolation range. Using nearest-neighbor fallback.\")\n",
    "    interpolated_value1[nan_mask1] = griddata(points, values1, new_points, method=\"nearest\")[nan_mask1]\n",
    "    interpolated_value2[nan_mask2] = griddata(points, values2, new_points, method=\"nearest\")[nan_mask2]\n",
    "\n",
    "# Store results in DataFrame\n",
    "target_coords[\"interpolated_mlat\"] = interpolated_value1\n",
    "target_coords[\"interpolated_mlon\"] = interpolated_value2\n",
    "\n",
    "# Save to a file\n",
    "target_coords.to_csv(output_file, sep=\" \", index=False, header=True)\n",
    "\n",
    "print(f\"Interpolated values saved to {output_file}\")\n"
   ]
  }
 ],
 "metadata": {
  "language_info": {
   "name": "python"
  }
 },
 "nbformat": 4,
 "nbformat_minor": 2
}
