{
 "cells": [
  {
   "cell_type": "code",
   "execution_count": null,
   "metadata": {
    "vscode": {
     "languageId": "plaintext"
    }
   },
   "outputs": [],
   "source": [
    "import matplotlib.pyplot as plt\n",
    "from spacepy.pycdf import CDF\n",
    "import cartopy.crs as ccrs\n",
    "import cartopy.feature as cfeature\n",
    "import numpy as np\n",
    "\n",
    "file_path = \"LR/SW_OPER_MAGA_LR_1B_20250131T000000_20250131T235959_0606_MDR_MAG_LR.cdf\"\n",
    "\n",
    "with CDF(file_path) as cdf:\n",
    "    latitude = cdf['Latitude'][:]\n",
    "    longitude = cdf['Longitude'][:]\n",
    "    timestamps = cdf['Timestamp'][:]\n",
    "    B_NEC = cdf['B_NEC'][:]\n",
    "    B_N = B_NEC[:, 0]\n",
    "    # B_E = B_NEC[:, 1]  No longer needed for this plot\n",
    "    # B_C = B_NEC[:, 2]  No longer needed for this plot\n",
    "\n",
    "\n",
    "# Restrict to Antakya, Turkey region\n",
    "#lat_min, lat_max = 30, 40\n",
    "#lon_min, lon_max = 20, 30\n",
    "\n",
    "lat_min, lat_max = latitude.min(), latitude.max()\n",
    "lon_min, lon_max = longitude.min(), longitude.max()\n",
    "\n",
    "# Use boolean indexing for efficient filtering\n",
    "region_indices = (latitude >= lat_min) & (latitude <= lat_max) & (longitude >= lon_min) & (longitude <= lon_max)\n",
    "\n",
    "latitude_region = latitude[region_indices]\n",
    "longitude_region = longitude[region_indices]\n",
    "B_N_region = B_N[region_indices]\n",
    "\n",
    "\n",
    "# --- Plotting ---\n",
    "fig = plt.figure(figsize=(10, 8))\n",
    "ax = fig.add_subplot(1, 1, 1, projection=ccrs.PlateCarree())\n",
    "# Scatter plot of B_N\n",
    "sc = ax.scatter(longitude_region, latitude_region, c=B_N_region, s=1, cmap='viridis')  # Color by B_N\n",
    "\n",
    "ax.add_feature(cfeature.COASTLINE)\n",
    "ax.add_feature(cfeature.BORDERS)\n",
    "ax.set_extent([ 25, 26, 30, 40], crs=ccrs.PlateCarree())\n",
    "\n",
    "# Add gridlines with numerical degree labels\n",
    "gridlines = ax.gridlines(draw_labels=True, linestyle=\"--\", color=\"gray\", alpha=0.5)\n",
    "gridlines.top_labels = False\n",
    "gridlines.right_labels = False\n",
    "gridlines.xlabel_style = {'size': 10}\n",
    "gridlines.ylabel_style = {'size': 10}\n",
    "\n",
    "ax.set_xlabel('Longitude')\n",
    "ax.set_ylabel('Latitude')\n",
    "ax.set_title('Swarm North Magnetic Field Component (B_N)')\n",
    "cbar = plt.colorbar(sc, label='B_N (nT)') # Adjust label if needed\n",
    "plt.show()\n",
    "\n",
    "\n"
   ]
  }
 ],
 "metadata": {
  "language_info": {
   "name": "python"
  }
 },
 "nbformat": 4,
 "nbformat_minor": 2
}
