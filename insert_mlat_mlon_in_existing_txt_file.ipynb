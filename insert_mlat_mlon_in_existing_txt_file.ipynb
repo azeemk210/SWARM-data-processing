{
 "cells": [
  {
   "cell_type": "code",
   "execution_count": null,
   "metadata": {
    "vscode": {
     "languageId": "plaintext"
    }
   },
   "outputs": [],
   "source": [
    "import pandas as pd\n",
    "\n",
    "# Define file paths\n",
    "geomag_file = \"interpolated_results_coordinates_SW_OPER_MAGC_HR_1B_20250128T000000_20250128T235959_0606_MDR_MAG_HR.txt\"  # File 1\n",
    "data_file = \"SW_OPER_MAGC_HR_1B_20250128T000000_20250128T235959_0606_MDR_MAG_HR.txt\"  # File 2\n",
    "output_file = \"SW_OPER_MAGC_HR_1B_20250128T000000_20250128T235959_0606_MDR_MAG_HR_modified_updated_with_geom.txt\"\n",
    "\n",
    "# Load geomagnetic data (File 1), ensuring proper column names\n",
    "geomag_df = pd.read_csv(geomag_file, delim_whitespace=True)\n",
    "\n",
    "# Load the existing dataset (File 2) while keeping headers\n",
    "data_df = pd.read_csv(data_file, delimiter=\",\")\n",
    "\n",
    "# Store original column names to preserve format\n",
    "original_columns = list(data_df.columns)\n",
    "\n",
    "# Ensure the number of rows match\n",
    "min_rows = min(len(geomag_df), len(data_df))\n",
    "geomag_df = geomag_df.iloc[:min_rows, :].reset_index(drop=True)\n",
    "data_df = data_df.iloc[:min_rows, :].reset_index(drop=True)\n",
    "\n",
    "\n",
    "#interpolated_mlat, interpolated_mlon\n",
    "# Insert `mlat` and `mlon` into File 2 at columns 4 and 5\n",
    "data_df.insert(3, \"interpolated_mlat\", geomag_df[\"interpolated_mlat\"].values)\n",
    "data_df.insert(4, \"interpolated_mlon\", geomag_df[\"interpolated_mlon\"].values)\n",
    "\n",
    "# Restore original column names, keeping new `mlat` and `mlon` in place\n",
    "data_df.columns = original_columns[:3] + [\"interpolated_mlat\", \"interpolated_mlon\"] + original_columns[3:]\n",
    "\n",
    "# Save the updated file in the correct format\n",
    "data_df.to_csv(output_file, index=False)\n",
    "\n",
    "print(f\"✅ Updated file saved as: {output_file}\")\n"
   ]
  }
 ],
 "metadata": {
  "language_info": {
   "name": "python"
  }
 },
 "nbformat": 4,
 "nbformat_minor": 2
}
